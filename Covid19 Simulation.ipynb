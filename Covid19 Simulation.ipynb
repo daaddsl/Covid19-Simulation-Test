{
 "cells": [
  {
   "cell_type": "markdown",
   "metadata": {},
   "source": [
    "# COVID 19 SIMULATION FOR GERMANY\n",
    "\n",
    "In this notebook we are going to explore various epidemic models and visualize the results. In this regard, we consider the current pandemic prevailing across the world - The Corona Virus Disease (COVID)\n",
    "We have worked on the existing dataset for Covid cases in Germany available on Kaggle.  \n"
   ]
  },
  {
   "cell_type": "code",
   "execution_count": 3,
   "metadata": {},
   "outputs": [
    {
     "name": "stdout",
     "output_type": "stream",
     "text": [
      "Requirement already satisfied: pmdarima in c:\\users\\deeptiramesh\\anaconda3\\lib\\site-packages (1.6.0)\n",
      "Requirement already satisfied: pandas>=0.19 in c:\\users\\deeptiramesh\\anaconda3\\lib\\site-packages (from pmdarima) (1.0.3)\n",
      "Requirement already satisfied: Cython>=0.29 in c:\\users\\deeptiramesh\\anaconda3\\lib\\site-packages (from pmdarima) (0.29.17)\n",
      "Requirement already satisfied: scikit-learn>=0.22 in c:\\users\\deeptiramesh\\anaconda3\\lib\\site-packages (from pmdarima) (0.22.2.post1)\n",
      "Requirement already satisfied: urllib3 in c:\\users\\deeptiramesh\\anaconda3\\lib\\site-packages (from pmdarima) (1.22)\n",
      "Requirement already satisfied: joblib>=0.11 in c:\\users\\deeptiramesh\\anaconda3\\lib\\site-packages (from pmdarima) (0.14.1)\n",
      "Requirement already satisfied: numpy>=1.17.3 in c:\\users\\deeptiramesh\\anaconda3\\lib\\site-packages (from pmdarima) (1.18.4)\n",
      "Requirement already satisfied: scipy>=1.3.2 in c:\\users\\deeptiramesh\\anaconda3\\lib\\site-packages (from pmdarima) (1.4.1)\n",
      "Requirement already satisfied: statsmodels>=0.10.2 in c:\\users\\deeptiramesh\\anaconda3\\lib\\site-packages (from pmdarima) (0.11.1)\n",
      "Requirement already satisfied: python-dateutil>=2.6.1 in c:\\users\\deeptiramesh\\anaconda3\\lib\\site-packages (from pandas>=0.19->pmdarima) (2.6.1)\n",
      "Requirement already satisfied: pytz>=2017.2 in c:\\users\\deeptiramesh\\anaconda3\\lib\\site-packages (from pandas>=0.19->pmdarima) (2017.2)\n",
      "Requirement already satisfied: patsy>=0.5 in c:\\users\\deeptiramesh\\anaconda3\\lib\\site-packages (from statsmodels>=0.10.2->pmdarima) (0.5.1)\n",
      "Requirement already satisfied: six>=1.5 in c:\\users\\deeptiramesh\\anaconda3\\lib\\site-packages (from python-dateutil>=2.6.1->pandas>=0.19->pmdarima) (1.11.0)\n"
     ]
    }
   ],
   "source": [
    "!pip install pmdarima\n",
    "from pmdarima import auto_arima"
   ]
  },
  {
   "cell_type": "code",
   "execution_count": 6,
   "metadata": {},
   "outputs": [
    {
     "ename": "NameError",
     "evalue": "name 'all_data' is not defined",
     "output_type": "error",
     "traceback": [
      "\u001b[1;31m---------------------------------------------------------------------------\u001b[0m",
      "\u001b[1;31mNameError\u001b[0m                                 Traceback (most recent call last)",
      "\u001b[1;32m<ipython-input-6-0c9631532dca>\u001b[0m in \u001b[0;36m<module>\u001b[1;34m()\u001b[0m\n\u001b[0;32m     39\u001b[0m \u001b[1;31m# province_name = 'None'\u001b[0m\u001b[1;33m\u001b[0m\u001b[1;33m\u001b[0m\u001b[0m\n\u001b[0;32m     40\u001b[0m \u001b[1;33m\u001b[0m\u001b[0m\n\u001b[1;32m---> 41\u001b[1;33m \u001b[0mforecast\u001b[0m \u001b[1;33m=\u001b[0m \u001b[0marima_cp\u001b[0m\u001b[1;33m(\u001b[0m\u001b[0mall_data\u001b[0m\u001b[1;33m,\u001b[0m \u001b[0mcountry_name\u001b[0m\u001b[1;33m,\u001b[0m \u001b[0mprovince_name\u001b[0m\u001b[1;33m,\u001b[0m \u001b[1;34m'ConfirmedCases'\u001b[0m\u001b[1;33m,\u001b[0m \u001b[0mtrain_lim\u001b[0m\u001b[1;33m,\u001b[0m \u001b[0mtest_lim\u001b[0m\u001b[1;33m)\u001b[0m\u001b[1;33m\u001b[0m\u001b[0m\n\u001b[0m\u001b[0;32m     42\u001b[0m \u001b[0mplot_arima_country\u001b[0m\u001b[1;33m(\u001b[0m\u001b[0mall_data\u001b[0m\u001b[1;33m,\u001b[0m \u001b[0mtrain\u001b[0m\u001b[1;33m,\u001b[0m \u001b[0mforecast\u001b[0m\u001b[1;33m,\u001b[0m \u001b[0mdates_overlap\u001b[0m\u001b[1;33m,\u001b[0m \u001b[0mcountry_name\u001b[0m\u001b[1;33m,\u001b[0m \u001b[0mprovince_name\u001b[0m\u001b[1;33m,\u001b[0m \u001b[0mvalid_num\u001b[0m\u001b[1;33m,\u001b[0m \u001b[1;34m'ConfirmedCases'\u001b[0m\u001b[1;33m)\u001b[0m\u001b[1;33m\u001b[0m\u001b[0m\n",
      "\u001b[1;31mNameError\u001b[0m: name 'all_data' is not defined"
     ]
    }
   ],
   "source": [
    "# Define a general function to run ARIMA regression\n",
    "def arima_cp(all_data, country_name, province_name, target, train_lim, test_lim):\n",
    "    \n",
    "    #Select data for the Country/Region, splitting train/test days\n",
    "    data_cp = all_data.loc[(all_data['Country_Region']==country_dict[country_name]) & (all_data['Province_State']==province_dict[province_name])]\n",
    "    data_cp_train = data_cp.loc[(data_cp['Day_num'])<=train_lim, target].astype(np.int32)\n",
    "    data_cp_test = data_cp.loc[(data_cp['Day_num'])>test_lim, target].astype(np.int32)\n",
    "\n",
    "    # Set the range of parameters to use\n",
    "    stepwise_model = auto_arima(data_cp[target], start_p=1, start_q=1, max_p=30, max_q=30, \n",
    "                                start_P=0, seasonal=False, d=2, trace=False, error_action='ignore', stepwise=True)\n",
    "\n",
    "    # Train and predict\n",
    "    stepwise_model.fit(data_cp_train, start_ar_lags=2*max(30, 30))\n",
    "    forecast = stepwise_model.predict(n_periods=test_lim-train_lim)\n",
    "    return forecast\n",
    "\n",
    "\n",
    "# Plot the actual values vs predictions\n",
    "def plot_arima_country(all_data, train, forecast, dates_overlap, country_name, province_name, valid_num, target):\n",
    "    df_train = train.loc[(train['Country_Region']==country_name) & (train['Province_State']==province_name), target]\n",
    "    df_fcst = np.append(df_train[:-valid_num], forecast[:valid_num])\n",
    "    dates = list(range(0,len(df_train)))\n",
    "    \n",
    "    # Plot results\n",
    "    fig, (ax1) = plt.subplots(1, 1, figsize=(10,6))\n",
    "    ax1.plot(dates, df_fcst)\n",
    "    ax1.plot(dates, df_train)\n",
    "    ax1.axvline(len(df_train)-valid_num-1, linewidth=2, ls = ':', color='grey', alpha=0.5)\n",
    "    ax1.set_title(\"Actual ConfirmedCases vs predictions based on ARIMA for \"+country_name + \"/\"+province_name)\n",
    "    ax1.legend(['Predicted cases', 'Actual cases', 'Train-test split'], loc='upper left')\n",
    "    ax1.set_xlabel(\"Day count starting on January 22nd\")\n",
    "    ax1.set_ylabel(\"ConfirmedCases\")\n",
    "    \n",
    "    \n",
    "    \n",
    "# Inputs\n",
    "country_name = 'Germany'\n",
    "province_name = 'None'\n",
    "\n",
    "forecast = arima_cp(all_data, country_name, province_name, 'ConfirmedCases', train_lim, test_lim)\n",
    "plot_arima_country(all_data, train, forecast, dates_overlap, country_name, province_name, valid_num, 'ConfirmedCases')"
   ]
  },
  {
   "cell_type": "code",
   "execution_count": null,
   "metadata": {
    "collapsed": true
   },
   "outputs": [],
   "source": []
  },
  {
   "cell_type": "code",
   "execution_count": null,
   "metadata": {
    "collapsed": true
   },
   "outputs": [],
   "source": []
  }
 ],
 "metadata": {
  "kernelspec": {
   "display_name": "Python 3",
   "language": "python",
   "name": "python3"
  },
  "language_info": {
   "codemirror_mode": {
    "name": "ipython",
    "version": 3
   },
   "file_extension": ".py",
   "mimetype": "text/x-python",
   "name": "python",
   "nbconvert_exporter": "python",
   "pygments_lexer": "ipython3",
   "version": "3.6.3"
  }
 },
 "nbformat": 4,
 "nbformat_minor": 2
}
